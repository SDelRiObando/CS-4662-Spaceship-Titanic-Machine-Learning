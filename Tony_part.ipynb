{
 "cells": [
  {
   "cell_type": "markdown",
   "id": "636460f7-735c-437c-8878-b1325aba54e8",
   "metadata": {},
   "source": [
    "## Imports"
   ]
  },
  {
   "cell_type": "code",
   "execution_count": 63,
   "id": "055fe3b4-f4c0-4c46-ba83-c7fa93af6910",
   "metadata": {},
   "outputs": [],
   "source": [
    "import pandas as pd  \n",
    "from sklearn.model_selection import train_test_split  \n",
    "from sklearn.ensemble import RandomForestClassifier  \n",
    "from sklearn.metrics import accuracy_score  \n",
    "import matplotlib.pyplot as plt\n"
   ]
  },
  {
   "cell_type": "markdown",
   "id": "f76d3c5e-2939-4c41-b955-0bca87fdd4e2",
   "metadata": {},
   "source": [
    "## Read Data"
   ]
  },
  {
   "cell_type": "code",
   "execution_count": 64,
   "id": "2c31f919-9d24-40fd-bfdd-d0f21d48197e",
   "metadata": {},
   "outputs": [],
   "source": [
    "df = pd.read_csv(\"data/train.csv\")"
   ]
  },
  {
   "cell_type": "markdown",
   "id": "e09e504c-8b4b-4fe2-81b1-2acfd81d662f",
   "metadata": {},
   "source": [
    "## Data Preview "
   ]
  },
  {
   "cell_type": "code",
   "execution_count": 65,
   "id": "7d97e2a3-9060-4ad0-a0fa-5cb49badd3fe",
   "metadata": {},
   "outputs": [
    {
     "data": {
      "text/html": [
       "<div>\n",
       "<style scoped>\n",
       "    .dataframe tbody tr th:only-of-type {\n",
       "        vertical-align: middle;\n",
       "    }\n",
       "\n",
       "    .dataframe tbody tr th {\n",
       "        vertical-align: top;\n",
       "    }\n",
       "\n",
       "    .dataframe thead th {\n",
       "        text-align: right;\n",
       "    }\n",
       "</style>\n",
       "<table border=\"1\" class=\"dataframe\">\n",
       "  <thead>\n",
       "    <tr style=\"text-align: right;\">\n",
       "      <th></th>\n",
       "      <th>PassengerId</th>\n",
       "      <th>HomePlanet</th>\n",
       "      <th>CryoSleep</th>\n",
       "      <th>Cabin</th>\n",
       "      <th>Destination</th>\n",
       "      <th>Age</th>\n",
       "      <th>VIP</th>\n",
       "      <th>RoomService</th>\n",
       "      <th>FoodCourt</th>\n",
       "      <th>ShoppingMall</th>\n",
       "      <th>Spa</th>\n",
       "      <th>VRDeck</th>\n",
       "      <th>Name</th>\n",
       "      <th>Transported</th>\n",
       "    </tr>\n",
       "  </thead>\n",
       "  <tbody>\n",
       "    <tr>\n",
       "      <th>0</th>\n",
       "      <td>0001_01</td>\n",
       "      <td>Europa</td>\n",
       "      <td>False</td>\n",
       "      <td>B/0/P</td>\n",
       "      <td>TRAPPIST-1e</td>\n",
       "      <td>39.0</td>\n",
       "      <td>False</td>\n",
       "      <td>0.0</td>\n",
       "      <td>0.0</td>\n",
       "      <td>0.0</td>\n",
       "      <td>0.0</td>\n",
       "      <td>0.0</td>\n",
       "      <td>Maham Ofracculy</td>\n",
       "      <td>False</td>\n",
       "    </tr>\n",
       "    <tr>\n",
       "      <th>1</th>\n",
       "      <td>0002_01</td>\n",
       "      <td>Earth</td>\n",
       "      <td>False</td>\n",
       "      <td>F/0/S</td>\n",
       "      <td>TRAPPIST-1e</td>\n",
       "      <td>24.0</td>\n",
       "      <td>False</td>\n",
       "      <td>109.0</td>\n",
       "      <td>9.0</td>\n",
       "      <td>25.0</td>\n",
       "      <td>549.0</td>\n",
       "      <td>44.0</td>\n",
       "      <td>Juanna Vines</td>\n",
       "      <td>True</td>\n",
       "    </tr>\n",
       "    <tr>\n",
       "      <th>2</th>\n",
       "      <td>0003_01</td>\n",
       "      <td>Europa</td>\n",
       "      <td>False</td>\n",
       "      <td>A/0/S</td>\n",
       "      <td>TRAPPIST-1e</td>\n",
       "      <td>58.0</td>\n",
       "      <td>True</td>\n",
       "      <td>43.0</td>\n",
       "      <td>3576.0</td>\n",
       "      <td>0.0</td>\n",
       "      <td>6715.0</td>\n",
       "      <td>49.0</td>\n",
       "      <td>Altark Susent</td>\n",
       "      <td>False</td>\n",
       "    </tr>\n",
       "    <tr>\n",
       "      <th>3</th>\n",
       "      <td>0003_02</td>\n",
       "      <td>Europa</td>\n",
       "      <td>False</td>\n",
       "      <td>A/0/S</td>\n",
       "      <td>TRAPPIST-1e</td>\n",
       "      <td>33.0</td>\n",
       "      <td>False</td>\n",
       "      <td>0.0</td>\n",
       "      <td>1283.0</td>\n",
       "      <td>371.0</td>\n",
       "      <td>3329.0</td>\n",
       "      <td>193.0</td>\n",
       "      <td>Solam Susent</td>\n",
       "      <td>False</td>\n",
       "    </tr>\n",
       "    <tr>\n",
       "      <th>4</th>\n",
       "      <td>0004_01</td>\n",
       "      <td>Earth</td>\n",
       "      <td>False</td>\n",
       "      <td>F/1/S</td>\n",
       "      <td>TRAPPIST-1e</td>\n",
       "      <td>16.0</td>\n",
       "      <td>False</td>\n",
       "      <td>303.0</td>\n",
       "      <td>70.0</td>\n",
       "      <td>151.0</td>\n",
       "      <td>565.0</td>\n",
       "      <td>2.0</td>\n",
       "      <td>Willy Santantines</td>\n",
       "      <td>True</td>\n",
       "    </tr>\n",
       "  </tbody>\n",
       "</table>\n",
       "</div>"
      ],
      "text/plain": [
       "  PassengerId HomePlanet CryoSleep  Cabin  Destination   Age    VIP  \\\n",
       "0     0001_01     Europa     False  B/0/P  TRAPPIST-1e  39.0  False   \n",
       "1     0002_01      Earth     False  F/0/S  TRAPPIST-1e  24.0  False   \n",
       "2     0003_01     Europa     False  A/0/S  TRAPPIST-1e  58.0   True   \n",
       "3     0003_02     Europa     False  A/0/S  TRAPPIST-1e  33.0  False   \n",
       "4     0004_01      Earth     False  F/1/S  TRAPPIST-1e  16.0  False   \n",
       "\n",
       "   RoomService  FoodCourt  ShoppingMall     Spa  VRDeck               Name  \\\n",
       "0          0.0        0.0           0.0     0.0     0.0    Maham Ofracculy   \n",
       "1        109.0        9.0          25.0   549.0    44.0       Juanna Vines   \n",
       "2         43.0     3576.0           0.0  6715.0    49.0      Altark Susent   \n",
       "3          0.0     1283.0         371.0  3329.0   193.0       Solam Susent   \n",
       "4        303.0       70.0         151.0   565.0     2.0  Willy Santantines   \n",
       "\n",
       "   Transported  \n",
       "0        False  \n",
       "1         True  \n",
       "2        False  \n",
       "3        False  \n",
       "4         True  "
      ]
     },
     "execution_count": 65,
     "metadata": {},
     "output_type": "execute_result"
    }
   ],
   "source": [
    "df.head()"
   ]
  },
  {
   "cell_type": "markdown",
   "id": "f763c5af-cf23-4ee7-a8c7-6314c6ace3a7",
   "metadata": {},
   "source": [
    "## Gathering Features "
   ]
  },
  {
   "cell_type": "code",
   "execution_count": 66,
   "id": "76c0985f-344a-48f1-a4d2-4a5b6772ac3b",
   "metadata": {},
   "outputs": [],
   "source": [
    "\n",
    "feature_cols = ['PassengerId',\t'HomePlanet',\t'CryoSleep',\t'Cabin',\t'Destination',\t'Age',\t'VIP',\t'RoomService',\t\n",
    "'FoodCourt',\t'ShoppingMall',\t'Spa',\t'VRDeck']\n",
    "y = df['Transported']\n",
    "\n"
   ]
  },
  {
   "cell_type": "markdown",
   "id": "220c9234-b81e-4713-866f-acc7023e5c84",
   "metadata": {},
   "source": [
    "## Fixing Data"
   ]
  },
  {
   "cell_type": "code",
   "execution_count": 67,
   "id": "a278b464-c0df-489f-b332-d1604db0ce11",
   "metadata": {},
   "outputs": [],
   "source": [
    "X = pd.get_dummies(df[feature_cols])\n",
    "X = X.fillna(0) \n"
   ]
  },
  {
   "cell_type": "markdown",
   "id": "93fc13e6-56b8-4bbc-a243-b128d6c98ed6",
   "metadata": {},
   "source": [
    "## Data Split"
   ]
  },
  {
   "cell_type": "code",
   "execution_count": 68,
   "id": "ad1fdc21-0c9c-4bc8-97aa-bf58e8aae11f",
   "metadata": {},
   "outputs": [],
   "source": [
    "X_train, X_test, y_train, y_test = train_test_split(X,y, test_size = 0.2, random_state = 42)\n"
   ]
  },
  {
   "cell_type": "markdown",
   "id": "3385ae96-45a5-4c01-b398-eb5ecd2a58d1",
   "metadata": {},
   "source": [
    "## Prediction/Accuracy"
   ]
  },
  {
   "cell_type": "code",
   "execution_count": 69,
   "id": "b75671a8-ea4f-423d-b43a-68eece343225",
   "metadata": {},
   "outputs": [
    {
     "name": "stdout",
     "output_type": "stream",
     "text": [
      "Accuracy of Random Forest: 0.7844\n"
     ]
    }
   ],
   "source": [
    "my_RandomForest = RandomForestClassifier(n_estimators=100, bootstrap=True, random_state=2)\n",
    "my_RandomForest.fit(X_train, y_train)\n",
    "\n",
    "y_predict = my_RandomForest.predict(X_test)\n",
    "y_prob = my_RandomForest.predict_proba(X_test)[:, 1]\n",
    "\n",
    "accuracy_rf = accuracy_score(y_test, y_predict)\n",
    "\n",
    "print(f\"Accuracy of Random Forest: {accuracy_rf:.4f}\")\n",
    "\n"
   ]
  },
  {
   "cell_type": "markdown",
   "id": "b68151bf-663c-486e-80be-da58f0686aa2",
   "metadata": {},
   "source": [
    "## Sorting by Importance"
   ]
  },
  {
   "cell_type": "code",
   "execution_count": 70,
   "id": "6acefedd-40d1-4096-a524-5ed77b23df03",
   "metadata": {},
   "outputs": [
    {
     "name": "stdout",
     "output_type": "stream",
     "text": [
      "                         Feature  Importance\n",
      "4                            Spa    0.060044\n",
      "5                         VRDeck    0.053971\n",
      "8702             CryoSleep_False    0.053279\n",
      "1                    RoomService    0.046862\n",
      "2                      FoodCourt    0.046674\n",
      "8703              CryoSleep_True    0.044574\n",
      "3                   ShoppingMall    0.039439\n",
      "0                            Age    0.031070\n",
      "8700           HomePlanet_Europa    0.014017\n",
      "8699            HomePlanet_Earth    0.013460\n",
      "8701             HomePlanet_Mars    0.005760\n",
      "15264    Destination_55 Cancri e    0.004826\n",
      "15266    Destination_TRAPPIST-1e    0.004498\n",
      "15265  Destination_PSO J318.5-22    0.002389\n",
      "15267                  VIP_False    0.002028\n",
      "15268                   VIP_True    0.001068\n",
      "15231              Cabin_G/981/S    0.000736\n",
      "13305             Cabin_G/1026/P    0.000677\n",
      "10111                Cabin_E/0/S    0.000654\n",
      "10196              Cabin_E/158/P    0.000568\n"
     ]
    }
   ],
   "source": [
    "importances = my_RandomForest.feature_importances_\n",
    "\n",
    "feature_names = X_train.columns\n",
    "\n",
    "feature_importance_df = pd.DataFrame({\n",
    "    'Feature': feature_names,\n",
    "    'Importance': importances\n",
    "}).sort_values(by='Importance', ascending=False)\n",
    "\n",
    "print(feature_importance_df.head(20))"
   ]
  },
  {
   "cell_type": "markdown",
   "id": "eb0d85c5-94fb-4b6b-9880-7a03f53a38f5",
   "metadata": {},
   "source": [
    "## Plotting "
   ]
  },
  {
   "cell_type": "code",
   "execution_count": 71,
   "id": "207e482d-b190-4cff-995d-0450dfe5d8bc",
   "metadata": {},
   "outputs": [
    {
     "data": {
      "image/png": "[encoded data removed]",
      "text/plain": [
       "<Figure size 1000x600 with 1 Axes>"
      ]
     },
     "metadata": {},
     "output_type": "display_data"
    }
   ],
   "source": [
    "\n",
    "top_n = 10\n",
    "top_features = feature_importance_df.head(top_n)\n",
    "\n",
    "plt.figure(figsize=(top_n, 6))\n",
    "plt.barh(top_features['Feature'], top_features['Importance'], color='skyblue')\n",
    "plt.xlabel('Importance')\n",
    "plt.title(f'Top {top_n} Most Important Features (Random Forest)')\n",
    "plt.gca().invert_yaxis()  \n",
    "plt.tight_layout()\n",
    "plt.show()\n"
   ]
  },
  {
   "cell_type": "code",
   "execution_count": null,
   "id": "41177f64-ec4f-4f22-9b48-56cfba7c450a",
   "metadata": {},
   "outputs": [],
   "source": []
  }
 ],
 "metadata": {
  "kernelspec": {
   "display_name": "Python 3 (ipykernel)",
   "language": "python",
   "name": "python3"
  },
  "language_info": {
   "codemirror_mode": {
    "name": "ipython",
    "version": 3
   },
   "file_extension": ".py",
   "mimetype": "text/x-python",
   "name": "python",
   "nbconvert_exporter": "python",
   "pygments_lexer": "ipython3",
   "version": "3.12.7"
  }
 },
 "nbformat": 4,
 "nbformat_minor": 5
}
