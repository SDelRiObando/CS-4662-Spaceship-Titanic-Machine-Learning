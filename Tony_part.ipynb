{
 "cells": [
  {
   "cell_type": "markdown",
   "id": "636460f7-735c-437c-8878-b1325aba54e8",
   "metadata": {},
   "source": [
    "## Imports"
   ]
  },
  {
   "cell_type": "code",
   "execution_count": 1,
   "id": "055fe3b4-f4c0-4c46-ba83-c7fa93af6910",
   "metadata": {},
   "outputs": [],
   "source": [
    "import pandas as pd  \n",
    "from sklearn.model_selection import train_test_split  \n",
    "from sklearn.ensemble import RandomForestClassifier  \n",
    "from sklearn.preprocessing import LabelEncoder\n",
    "from sklearn.metrics import accuracy_score, classification_report, confusion_matrix, roc_auc_score\n",
    "import matplotlib.pyplot as plt\n",
    "import seaborn as sns"
   ]
  },
  {
   "cell_type": "markdown",
   "id": "f76d3c5e-2939-4c41-b955-0bca87fdd4e2",
   "metadata": {},
   "source": [
    "## Read Data"
   ]
  },
  {
   "cell_type": "code",
   "execution_count": 2,
   "id": "2c31f919-9d24-40fd-bfdd-d0f21d48197e",
   "metadata": {},
   "outputs": [],
   "source": [
    "df = pd.read_csv(\"data/train.csv\")"
   ]
  },
  {
   "cell_type": "markdown",
   "id": "e09e504c-8b4b-4fe2-81b1-2acfd81d662f",
   "metadata": {},
   "source": [
    "## Data Preview "
   ]
  },
  {
   "cell_type": "code",
   "execution_count": 3,
   "id": "7d97e2a3-9060-4ad0-a0fa-5cb49badd3fe",
   "metadata": {},
   "outputs": [
    {
     "data": {
      "text/html": [
       "<div>\n",
       "<style scoped>\n",
       "    .dataframe tbody tr th:only-of-type {\n",
       "        vertical-align: middle;\n",
       "    }\n",
       "\n",
       "    .dataframe tbody tr th {\n",
       "        vertical-align: top;\n",
       "    }\n",
       "\n",
       "    .dataframe thead th {\n",
       "        text-align: right;\n",
       "    }\n",
       "</style>\n",
       "<table border=\"1\" class=\"dataframe\">\n",
       "  <thead>\n",
       "    <tr style=\"text-align: right;\">\n",
       "      <th></th>\n",
       "      <th>PassengerId</th>\n",
       "      <th>HomePlanet</th>\n",
       "      <th>CryoSleep</th>\n",
       "      <th>Cabin</th>\n",
       "      <th>Destination</th>\n",
       "      <th>Age</th>\n",
       "      <th>VIP</th>\n",
       "      <th>RoomService</th>\n",
       "      <th>FoodCourt</th>\n",
       "      <th>ShoppingMall</th>\n",
       "      <th>Spa</th>\n",
       "      <th>VRDeck</th>\n",
       "      <th>Name</th>\n",
       "      <th>Transported</th>\n",
       "    </tr>\n",
       "  </thead>\n",
       "  <tbody>\n",
       "    <tr>\n",
       "      <th>0</th>\n",
       "      <td>0001_01</td>\n",
       "      <td>Europa</td>\n",
       "      <td>False</td>\n",
       "      <td>B/0/P</td>\n",
       "      <td>TRAPPIST-1e</td>\n",
       "      <td>39.0</td>\n",
       "      <td>False</td>\n",
       "      <td>0.0</td>\n",
       "      <td>0.0</td>\n",
       "      <td>0.0</td>\n",
       "      <td>0.0</td>\n",
       "      <td>0.0</td>\n",
       "      <td>Maham Ofracculy</td>\n",
       "      <td>False</td>\n",
       "    </tr>\n",
       "    <tr>\n",
       "      <th>1</th>\n",
       "      <td>0002_01</td>\n",
       "      <td>Earth</td>\n",
       "      <td>False</td>\n",
       "      <td>F/0/S</td>\n",
       "      <td>TRAPPIST-1e</td>\n",
       "      <td>24.0</td>\n",
       "      <td>False</td>\n",
       "      <td>109.0</td>\n",
       "      <td>9.0</td>\n",
       "      <td>25.0</td>\n",
       "      <td>549.0</td>\n",
       "      <td>44.0</td>\n",
       "      <td>Juanna Vines</td>\n",
       "      <td>True</td>\n",
       "    </tr>\n",
       "    <tr>\n",
       "      <th>2</th>\n",
       "      <td>0003_01</td>\n",
       "      <td>Europa</td>\n",
       "      <td>False</td>\n",
       "      <td>A/0/S</td>\n",
       "      <td>TRAPPIST-1e</td>\n",
       "      <td>58.0</td>\n",
       "      <td>True</td>\n",
       "      <td>43.0</td>\n",
       "      <td>3576.0</td>\n",
       "      <td>0.0</td>\n",
       "      <td>6715.0</td>\n",
       "      <td>49.0</td>\n",
       "      <td>Altark Susent</td>\n",
       "      <td>False</td>\n",
       "    </tr>\n",
       "    <tr>\n",
       "      <th>3</th>\n",
       "      <td>0003_02</td>\n",
       "      <td>Europa</td>\n",
       "      <td>False</td>\n",
       "      <td>A/0/S</td>\n",
       "      <td>TRAPPIST-1e</td>\n",
       "      <td>33.0</td>\n",
       "      <td>False</td>\n",
       "      <td>0.0</td>\n",
       "      <td>1283.0</td>\n",
       "      <td>371.0</td>\n",
       "      <td>3329.0</td>\n",
       "      <td>193.0</td>\n",
       "      <td>Solam Susent</td>\n",
       "      <td>False</td>\n",
       "    </tr>\n",
       "    <tr>\n",
       "      <th>4</th>\n",
       "      <td>0004_01</td>\n",
       "      <td>Earth</td>\n",
       "      <td>False</td>\n",
       "      <td>F/1/S</td>\n",
       "      <td>TRAPPIST-1e</td>\n",
       "      <td>16.0</td>\n",
       "      <td>False</td>\n",
       "      <td>303.0</td>\n",
       "      <td>70.0</td>\n",
       "      <td>151.0</td>\n",
       "      <td>565.0</td>\n",
       "      <td>2.0</td>\n",
       "      <td>Willy Santantines</td>\n",
       "      <td>True</td>\n",
       "    </tr>\n",
       "  </tbody>\n",
       "</table>\n",
       "</div>"
      ],
      "text/plain": [
       "  PassengerId HomePlanet CryoSleep  Cabin  Destination   Age    VIP  \\\n",
       "0     0001_01     Europa     False  B/0/P  TRAPPIST-1e  39.0  False   \n",
       "1     0002_01      Earth     False  F/0/S  TRAPPIST-1e  24.0  False   \n",
       "2     0003_01     Europa     False  A/0/S  TRAPPIST-1e  58.0   True   \n",
       "3     0003_02     Europa     False  A/0/S  TRAPPIST-1e  33.0  False   \n",
       "4     0004_01      Earth     False  F/1/S  TRAPPIST-1e  16.0  False   \n",
       "\n",
       "   RoomService  FoodCourt  ShoppingMall     Spa  VRDeck               Name  \\\n",
       "0          0.0        0.0           0.0     0.0     0.0    Maham Ofracculy   \n",
       "1        109.0        9.0          25.0   549.0    44.0       Juanna Vines   \n",
       "2         43.0     3576.0           0.0  6715.0    49.0      Altark Susent   \n",
       "3          0.0     1283.0         371.0  3329.0   193.0       Solam Susent   \n",
       "4        303.0       70.0         151.0   565.0     2.0  Willy Santantines   \n",
       "\n",
       "   Transported  \n",
       "0        False  \n",
       "1         True  \n",
       "2        False  \n",
       "3        False  \n",
       "4         True  "
      ]
     },
     "execution_count": 3,
     "metadata": {},
     "output_type": "execute_result"
    }
   ],
   "source": [
    "df.head()"
   ]
  },
  {
   "cell_type": "code",
   "execution_count": 4,
   "id": "81a644d5-d91c-4f56-9ea9-3abba50171c1",
   "metadata": {},
   "outputs": [
    {
     "data": {
      "image/png": "[encoded data removed]",
      "text/plain": [
       "<Figure size 600x400 with 1 Axes>"
      ]
     },
     "metadata": {},
     "output_type": "display_data"
    }
   ],
   "source": [
    "# Set the style\n",
    "sns.set(style=\"whitegrid\")\n",
    "\n",
    "# Plot the distribution of the 'Transported' column\n",
    "plt.figure(figsize=(6, 4))\n",
    "sns.countplot(x='Transported', hue='Transported', data=df, palette='Set1', legend=False)\n",
    "\n",
    "# Add labels and title\n",
    "plt.title('Label Distribution: Transported vs Not Transported')\n",
    "plt.xlabel('Transported')\n",
    "plt.ylabel('Count')\n",
    "\n",
    "# Show values on top of bars\n",
    "for p in plt.gca().patches:\n",
    "    plt.gca().annotate(f'{p.get_height()}', \n",
    "                       (p.get_x() + p.get_width() / 2., p.get_height()), \n",
    "                       ha='center', va='baseline', fontsize=11, color='black')\n",
    "\n",
    "plt.tight_layout()\n",
    "plt.show()"
   ]
  },
  {
   "cell_type": "markdown",
   "id": "f763c5af-cf23-4ee7-a8c7-6314c6ace3a7",
   "metadata": {},
   "source": [
    "## Gathering Features "
   ]
  },
  {
   "cell_type": "code",
   "execution_count": 5,
   "id": "76c0985f-344a-48f1-a4d2-4a5b6772ac3b",
   "metadata": {},
   "outputs": [],
   "source": [
    "# Drop irrelevant columns\n",
    "columns_to_drop = ['PassengerId', 'Name']\n",
    "df.drop(columns_to_drop, axis=1, inplace=True)\n",
    "\n",
    "# Split the 'Cabin' column into 'Deck', 'CabinNumber', and 'Side'\n",
    "df['Deck'] = df['Cabin'].str.extract(r'([A-Za-z])')  # Extract the first letter (Deck)\n",
    "df['CabinNumber'] = df['Cabin'].str.extract(r'(\\d+)')  # Extract the digits (Cabin number)\n",
    "df['Side'] = df['Cabin'].str.extract(r'([PS])')  # Extract the side ('P' for Port, 'S' for Starboard)\n",
    "\n",
    "# Drop the original 'Cabin' column after the split\n",
    "df.drop('Cabin', axis=1, inplace=True)\n",
    "\n",
    "# Combine all the spending features into a single total spend feature\n",
    "spend_cols = ['RoomService', 'FoodCourt', 'ShoppingMall', 'Spa', 'VRDeck']\n",
    "df[spend_cols] = df[spend_cols].fillna(0)  # Fill missing spending data with 0\n",
    "df['TotalSpend'] = df[spend_cols].sum(axis=1)  # Create TotalSpend as the sum of all spending features\n"
   ]
  },
  {
   "cell_type": "markdown",
   "id": "220c9234-b81e-4713-866f-acc7023e5c84",
   "metadata": {},
   "source": [
    "## Fixing Data"
   ]
  },
  {
   "cell_type": "code",
   "execution_count": 6,
   "id": "a278b464-c0df-489f-b332-d1604db0ce11",
   "metadata": {},
   "outputs": [
    {
     "name": "stderr",
     "output_type": "stream",
     "text": [
      "C:\\Users\\Tonyo\\AppData\\Local\\Temp\\ipykernel_7432\\3015732875.py:7: FutureWarning: Downcasting object dtype arrays on .fillna, .ffill, .bfill is deprecated and will change in a future version. Call result.infer_objects(copy=False) instead. To opt-in to the future behavior, set `pd.set_option('future.no_silent_downcasting', True)`\n",
      "  df['CryoSleep'] = df['CryoSleep'].fillna(df['TotalSpend'] == 0).astype(bool)\n",
      "C:\\Users\\Tonyo\\AppData\\Local\\Temp\\ipykernel_7432\\3015732875.py:17: FutureWarning: Downcasting object dtype arrays on .fillna, .ffill, .bfill is deprecated and will change in a future version. Call result.infer_objects(copy=False) instead. To opt-in to the future behavior, set `pd.set_option('future.no_silent_downcasting', True)`\n",
      "  df['VIP'] = df['VIP'].fillna(df['TotalSpend'] > avg_vip_spend)\n"
     ]
    }
   ],
   "source": [
    "# Fill missing values for each of the extracted features\n",
    "df['Deck'] = df['Deck'].fillna('None')\n",
    "df['CabinNumber'] = df['CabinNumber'].fillna('None')\n",
    "df['Side'] = df['Side'].fillna('None')\n",
    "\n",
    "# Fill missing boolean values (CryoSleep) with false if spenditure was 0\n",
    "df['CryoSleep'] = df['CryoSleep'].fillna(df['TotalSpend'] == 0).astype(bool)\n",
    "\n",
    "# Filter the DataFrame to get the rows where VIP is True\n",
    "vip_df = df[df['VIP'] == True]\n",
    "\n",
    "# Calculate the average spending of VIPs\n",
    "avg_vip_spend = vip_df['TotalSpend'].mean()\n",
    "\n",
    "# Use this average to set the spending threshold\n",
    "# Fill missing VIP values based on whether TotalSpend exceeds the average VIP spend\n",
    "df['VIP'] = df['VIP'].fillna(df['TotalSpend'] > avg_vip_spend)\n",
    "\n",
    "# Fill missing numerical values for 'Age' with the median\n",
    "df['Age'] = df['Age'].fillna(df['Age'].median())\n",
    "\n",
    "# Fill missing categorical values for 'HomePlanet' and 'Destination' with the most common value (mode)\n",
    "df['HomePlanet'] = df['HomePlanet'].fillna(df['HomePlanet'].mode()[0])\n",
    "df['Destination'] = df['Destination'].fillna(df['Destination'].mode()[0])"
   ]
  },
  {
   "cell_type": "markdown",
   "id": "0f75b12c-793d-4b27-9328-5d7c1887ee62",
   "metadata": {},
   "source": [
    "# Encoding Data"
   ]
  },
  {
   "cell_type": "code",
   "execution_count": 7,
   "id": "255b5ccb-b009-4a9a-b2a6-e5e6855397dd",
   "metadata": {},
   "outputs": [],
   "source": [
    "# Encode HomePlanet\n",
    "le_homeplanet = LabelEncoder()\n",
    "df['HomePlanet'] = le_homeplanet.fit_transform(df['HomePlanet'].astype(str))\n",
    "\n",
    "# Encode Destination\n",
    "le_destination = LabelEncoder()\n",
    "df['Destination'] = le_destination.fit_transform(df['Destination'].astype(str))\n",
    "\n",
    "# Encode Deck\n",
    "le_deck = LabelEncoder()\n",
    "df['Deck'] = le_deck.fit_transform(df['Deck'].astype(str))\n",
    "\n",
    "# Encode CabinNumber\n",
    "le_cabinnumber = LabelEncoder()\n",
    "df['CabinNumber'] = le_cabinnumber.fit_transform(df['CabinNumber'].astype(str))\n",
    "\n",
    "# Encode Side\n",
    "le_side = LabelEncoder()\n",
    "df['Side'] = le_side.fit_transform(df['Side'].astype(str))\n",
    "\n",
    "# Convert CryoSleep and VIP to int\n",
    "df['CryoSleep'] = df['CryoSleep'].astype(int)\n",
    "df['VIP'] = df['VIP'].astype(int)"
   ]
  },
  {
   "cell_type": "markdown",
   "id": "93fc13e6-56b8-4bbc-a243-b128d6c98ed6",
   "metadata": {},
   "source": [
    "## Data Split"
   ]
  },
  {
   "cell_type": "code",
   "execution_count": 8,
   "id": "ad1fdc21-0c9c-4bc8-97aa-bf58e8aae11f",
   "metadata": {},
   "outputs": [],
   "source": [
    "df.drop('TotalSpend', axis=1, inplace=True)\n",
    "# Define features (X) and target (y)\n",
    "X = df.drop('Transported', axis=1)  # All columns except 'Transported' are features\n",
    "y = df['Transported']  # 'Transported' is the target variable\n",
    "\n",
    "X_train, X_test, y_train, y_test = train_test_split(X,y, test_size = 0.2, random_state = 42)\n"
   ]
  },
  {
   "cell_type": "markdown",
   "id": "3385ae96-45a5-4c01-b398-eb5ecd2a58d1",
   "metadata": {},
   "source": [
    "## Prediction/Accuracy"
   ]
  },
  {
   "cell_type": "code",
   "execution_count": null,
   "id": "b75671a8-ea4f-423d-b43a-68eece343225",
   "metadata": {},
   "outputs": [
    {
     "name": "stdout",
     "output_type": "stream",
     "text": [
      "Accuracy of Random Forest: 0.7941\n",
      "AUC of Random Forest: 0.8698\n",
      "Accuracy of Random Forest: 0.7941\n"
     ]
    }
   ],
   "source": [
    "my_RandomForest = RandomForestClassifier(n_estimators=30, bootstrap=True, random_state=2)\n",
    "my_RandomForest.fit(X_train, y_train)\n",
    "\n",
    "y_predict = my_RandomForest.predict(X_test)\n",
    "y_prob = my_RandomForest.predict_proba(X_test)[:, 1]\n",
    "\n",
    "accuracy_rf = accuracy_score(y_test, y_predict)\n",
    "auc_rf = roc_auc_score(y_test, y_prob)\n",
    "\n",
    "print(f\"Accuracy of Random Forest: {accuracy_rf:.4f}\")\n",
    "\n",
    "print(f\"AUC of Random Forest: {auc_rf:.4f}\")\n",
    "\n"
   ]
  },
  {
   "cell_type": "markdown",
   "id": "b68151bf-663c-486e-80be-da58f0686aa2",
   "metadata": {},
   "source": [
    "## Sorting by Importance"
   ]
  },
  {
   "cell_type": "code",
   "execution_count": 10,
   "id": "6acefedd-40d1-4096-a524-5ed77b23df03",
   "metadata": {},
   "outputs": [
    {
     "name": "stdout",
     "output_type": "stream",
     "text": [
      "         Feature  Importance\n",
      "11   CabinNumber    0.182356\n",
      "3            Age    0.130871\n",
      "8            Spa    0.119178\n",
      "6      FoodCourt    0.099532\n",
      "9         VRDeck    0.097491\n",
      "5    RoomService    0.096664\n",
      "7   ShoppingMall    0.079996\n",
      "1      CryoSleep    0.059954\n",
      "10          Deck    0.058854\n",
      "0     HomePlanet    0.031462\n",
      "12          Side    0.020813\n",
      "2    Destination    0.020545\n",
      "4            VIP    0.002284\n"
     ]
    }
   ],
   "source": [
    "importances = my_RandomForest.feature_importances_\n",
    "\n",
    "feature_names = X_train.columns\n",
    "\n",
    "feature_importance_df = pd.DataFrame({\n",
    "    'Feature': feature_names,\n",
    "    'Importance': importances\n",
    "}).sort_values(by='Importance', ascending=False)\n",
    "\n",
    "print(feature_importance_df.head(20))"
   ]
  },
  {
   "cell_type": "markdown",
   "id": "eb0d85c5-94fb-4b6b-9880-7a03f53a38f5",
   "metadata": {},
   "source": [
    "## Plotting "
   ]
  },
  {
   "cell_type": "code",
   "execution_count": 11,
   "id": "207e482d-b190-4cff-995d-0450dfe5d8bc",
   "metadata": {},
   "outputs": [
    {
     "data": {
      "image/png": "[encoded data removed]",
      "text/plain": [
       "<Figure size 1000x600 with 1 Axes>"
      ]
     },
     "metadata": {},
     "output_type": "display_data"
    }
   ],
   "source": [
    "\n",
    "top_n = 10\n",
    "top_features = feature_importance_df.head(top_n)\n",
    "\n",
    "plt.figure(figsize=(top_n, 6))\n",
    "plt.barh(top_features['Feature'], top_features['Importance'], color='skyblue')\n",
    "plt.xlabel('Importance')\n",
    "plt.title(f'Top {top_n} Most Important Features (Random Forest)')\n",
    "plt.gca().invert_yaxis()  \n",
    "plt.tight_layout()\n",
    "plt.show()\n"
   ]
  },
  {
   "cell_type": "code",
   "execution_count": 12,
   "id": "41177f64-ec4f-4f22-9b48-56cfba7c450a",
   "metadata": {},
   "outputs": [
    {
     "data": {
      "text/html": [
       "<style type=\"text/css\">\n",
       "#T_ad5f4_row0_col0, #T_ad5f4_row1_col1, #T_ad5f4_row1_col2, #T_ad5f4_row2_col3 {\n",
       "  background-color: #f7fbff;\n",
       "  color: #000000;\n",
       "}\n",
       "#T_ad5f4_row0_col1, #T_ad5f4_row0_col2, #T_ad5f4_row1_col0, #T_ad5f4_row3_col3, #T_ad5f4_row4_col3 {\n",
       "  background-color: #08306b;\n",
       "  color: #f1f1f1;\n",
       "}\n",
       "#T_ad5f4_row0_col3, #T_ad5f4_row2_col1, #T_ad5f4_row4_col1, #T_ad5f4_row4_col2 {\n",
       "  background-color: #6dafd7;\n",
       "  color: #f1f1f1;\n",
       "}\n",
       "#T_ad5f4_row1_col3, #T_ad5f4_row2_col2, #T_ad5f4_row4_col0 {\n",
       "  background-color: #69add5;\n",
       "  color: #f1f1f1;\n",
       "}\n",
       "#T_ad5f4_row2_col0 {\n",
       "  background-color: #74b3d8;\n",
       "  color: #000000;\n",
       "}\n",
       "#T_ad5f4_row3_col0, #T_ad5f4_row3_col1 {\n",
       "  background-color: #6aaed6;\n",
       "  color: #f1f1f1;\n",
       "}\n",
       "#T_ad5f4_row3_col2 {\n",
       "  background-color: #6caed6;\n",
       "  color: #f1f1f1;\n",
       "}\n",
       "</style>\n",
       "<table id=\"T_ad5f4\">\n",
       "  <thead>\n",
       "    <tr>\n",
       "      <th class=\"blank level0\" >&nbsp;</th>\n",
       "      <th id=\"T_ad5f4_level0_col0\" class=\"col_heading level0 col0\" >precision</th>\n",
       "      <th id=\"T_ad5f4_level0_col1\" class=\"col_heading level0 col1\" >recall</th>\n",
       "      <th id=\"T_ad5f4_level0_col2\" class=\"col_heading level0 col2\" >f1-score</th>\n",
       "      <th id=\"T_ad5f4_level0_col3\" class=\"col_heading level0 col3\" >support</th>\n",
       "    </tr>\n",
       "  </thead>\n",
       "  <tbody>\n",
       "    <tr>\n",
       "      <th id=\"T_ad5f4_level0_row0\" class=\"row_heading level0 row0\" >False</th>\n",
       "      <td id=\"T_ad5f4_row0_col0\" class=\"data row0 col0\" >0.78</td>\n",
       "      <td id=\"T_ad5f4_row0_col1\" class=\"data row0 col1\" >0.82</td>\n",
       "      <td id=\"T_ad5f4_row0_col2\" class=\"data row0 col2\" >0.80</td>\n",
       "      <td id=\"T_ad5f4_row0_col3\" class=\"data row0 col3\" >861.00</td>\n",
       "    </tr>\n",
       "    <tr>\n",
       "      <th id=\"T_ad5f4_level0_row1\" class=\"row_heading level0 row1\" >True</th>\n",
       "      <td id=\"T_ad5f4_row1_col0\" class=\"data row1 col0\" >0.81</td>\n",
       "      <td id=\"T_ad5f4_row1_col1\" class=\"data row1 col1\" >0.77</td>\n",
       "      <td id=\"T_ad5f4_row1_col2\" class=\"data row1 col2\" >0.79</td>\n",
       "      <td id=\"T_ad5f4_row1_col3\" class=\"data row1 col3\" >878.00</td>\n",
       "    </tr>\n",
       "    <tr>\n",
       "      <th id=\"T_ad5f4_level0_row2\" class=\"row_heading level0 row2\" >accuracy</th>\n",
       "      <td id=\"T_ad5f4_row2_col0\" class=\"data row2 col0\" >0.79</td>\n",
       "      <td id=\"T_ad5f4_row2_col1\" class=\"data row2 col1\" >0.79</td>\n",
       "      <td id=\"T_ad5f4_row2_col2\" class=\"data row2 col2\" >0.79</td>\n",
       "      <td id=\"T_ad5f4_row2_col3\" class=\"data row2 col3\" >0.79</td>\n",
       "    </tr>\n",
       "    <tr>\n",
       "      <th id=\"T_ad5f4_level0_row3\" class=\"row_heading level0 row3\" >macro avg</th>\n",
       "      <td id=\"T_ad5f4_row3_col0\" class=\"data row3 col0\" >0.79</td>\n",
       "      <td id=\"T_ad5f4_row3_col1\" class=\"data row3 col1\" >0.79</td>\n",
       "      <td id=\"T_ad5f4_row3_col2\" class=\"data row3 col2\" >0.79</td>\n",
       "      <td id=\"T_ad5f4_row3_col3\" class=\"data row3 col3\" >1739.00</td>\n",
       "    </tr>\n",
       "    <tr>\n",
       "      <th id=\"T_ad5f4_level0_row4\" class=\"row_heading level0 row4\" >weighted avg</th>\n",
       "      <td id=\"T_ad5f4_row4_col0\" class=\"data row4 col0\" >0.79</td>\n",
       "      <td id=\"T_ad5f4_row4_col1\" class=\"data row4 col1\" >0.79</td>\n",
       "      <td id=\"T_ad5f4_row4_col2\" class=\"data row4 col2\" >0.79</td>\n",
       "      <td id=\"T_ad5f4_row4_col3\" class=\"data row4 col3\" >1739.00</td>\n",
       "    </tr>\n",
       "  </tbody>\n",
       "</table>\n"
      ],
      "text/plain": [
       "<pandas.io.formats.style.Styler at 0x1c9ba2b1460>"
      ]
     },
     "execution_count": 12,
     "metadata": {},
     "output_type": "execute_result"
    }
   ],
   "source": [
    "# Print classification report (precision, recall, F1-score)\n",
    "report = classification_report(y_test, y_predict, output_dict=True)\n",
    "\n",
    "# Convert to a DataFrame for pretty display\n",
    "df_report = pd.DataFrame(report).transpose()\n",
    "df_report.style.background_gradient(cmap='Blues').format(precision=2)"
   ]
  },
  {
   "cell_type": "code",
   "execution_count": 13,
   "id": "f88ac59e-d193-44f4-82d1-f50e2be362f7",
   "metadata": {},
   "outputs": [
    {
     "data": {
      "image/png": "[encoded data removed]",
      "text/plain": [
       "<Figure size 640x480 with 2 Axes>"
      ]
     },
     "metadata": {},
     "output_type": "display_data"
    }
   ],
   "source": [
    "# Print Confusion Matrix\n",
    "cm = confusion_matrix(y_test, y_predict)\n",
    "\n",
    "sns.heatmap(cm, annot=True, fmt='d', cmap='Blues', xticklabels=['Not Transported', 'Transported'], yticklabels=['Not Transported', 'Transported'])\n",
    "plt.xlabel('Predicted')\n",
    "plt.ylabel('Actual')\n",
    "plt.title('Confusion Matrix - XGBoost Classifier')\n",
    "plt.show()"
   ]
  },
  {
   "cell_type": "code",
   "execution_count": null,
   "id": "0c29dd43-8c03-4b23-b29b-d9650a49791c",
   "metadata": {},
   "outputs": [],
   "source": []
  },
  {
   "cell_type": "code",
   "execution_count": null,
   "id": "3a9c5a39-4bb1-4665-9a97-494cd962241a",
   "metadata": {},
   "outputs": [],
   "source": []
  },
  {
   "cell_type": "code",
   "execution_count": null,
   "id": "281bad3b-a759-44cc-8c9a-66ec26060deb",
   "metadata": {},
   "outputs": [],
   "source": []
  },
  {
   "cell_type": "code",
   "execution_count": null,
   "id": "a5110452-8b33-4c49-ac1e-1c5c8f5a5105",
   "metadata": {},
   "outputs": [],
   "source": []
  },
  {
   "cell_type": "code",
   "execution_count": null,
   "id": "73750f44-bf93-4755-9a23-0590daee9690",
   "metadata": {},
   "outputs": [],
   "source": []
  },
  {
   "cell_type": "code",
   "execution_count": null,
   "id": "c60476f2-8c17-4457-9acd-6568eb009262",
   "metadata": {},
   "outputs": [],
   "source": []
  },
  {
   "cell_type": "code",
   "execution_count": null,
   "id": "c12815e9-8caf-482c-887a-846e0778396c",
   "metadata": {},
   "outputs": [],
   "source": []
  }
 ],
 "metadata": {
  "kernelspec": {
   "display_name": "Python 3 (ipykernel)",
   "language": "python",
   "name": "python3"
  },
  "language_info": {
   "codemirror_mode": {
    "name": "ipython",
    "version": 3
   },
   "file_extension": ".py",
   "mimetype": "text/x-python",
   "name": "python",
   "nbconvert_exporter": "python",
   "pygments_lexer": "ipython3",
   "version": "3.12.7"
  }
 },
 "nbformat": 4,
 "nbformat_minor": 5
}
